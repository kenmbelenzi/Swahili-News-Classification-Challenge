{
 "cells": [
  {
   "cell_type": "code",
   "execution_count": null,
   "metadata": {
    "colab": {
     "base_uri": "https://localhost:8080/"
    },
    "id": "mbJPkkwplcP0",
    "outputId": "98f281bb-619d-4176-9bc8-f5b460073e20"
   },
   "outputs": [
    {
     "name": "stdout",
     "output_type": "stream",
     "text": [
      "Requirement already satisfied: scikit-learn in /usr/local/lib/python3.7/dist-packages (0.22.2.post1)\n",
      "Requirement already satisfied: numpy>=1.11.0 in /usr/local/lib/python3.7/dist-packages (from scikit-learn) (1.19.5)\n",
      "Requirement already satisfied: scipy>=0.17.0 in /usr/local/lib/python3.7/dist-packages (from scikit-learn) (1.4.1)\n",
      "Requirement already satisfied: joblib>=0.11 in /usr/local/lib/python3.7/dist-packages (from scikit-learn) (1.0.1)\n"
     ]
    }
   ],
   "source": [
    "!pip install scikit-learn"
   ]
  },
  {
   "cell_type": "code",
   "execution_count": 24,
   "metadata": {
    "ExecuteTime": {
     "end_time": "2021-02-26T19:41:07.613756Z",
     "start_time": "2021-02-26T19:41:07.608751Z"
    },
    "id": "6WT6s57WKuP3"
   },
   "outputs": [],
   "source": [
    "import numpy as np\n",
    "import pandas as pd\n",
    "import csv\n",
    "\n",
    "from sklearn.model_selection import train_test_split\n",
    "from sklearn.naive_bayes import MultinomialNB\n",
    "from sklearn.metrics import log_loss\n",
    "from sklearn.feature_extraction.text import CountVectorizer\n",
    "\n",
    "import re\n",
    "from string import punctuation\n",
    "\n",
    "import warnings\n",
    "warnings.filterwarnings(\"ignore\")\n",
    "np.random.seed(123)\n"
   ]
  },
  {
   "cell_type": "code",
   "execution_count": 25,
   "metadata": {
    "ExecuteTime": {
     "end_time": "2021-02-26T19:41:10.015237Z",
     "start_time": "2021-02-26T19:41:08.299554Z"
    },
    "colab": {
     "base_uri": "https://localhost:8080/"
    },
    "id": "YQl7ZoFpNAyo",
    "outputId": "20f33a1a-2856-4a5b-b255-e20528afedd6"
   },
   "outputs": [],
   "source": [
    "train = pd.read_csv(\"train.csv\",engine = \"python\", error_bad_lines=False)\n",
    "test = pd.read_csv('test.csv',engine=\"python\")"
   ]
  },
  {
   "cell_type": "code",
   "execution_count": 26,
   "metadata": {
    "ExecuteTime": {
     "end_time": "2021-02-26T19:41:10.032406Z",
     "start_time": "2021-02-26T19:41:10.017432Z"
    },
    "colab": {
     "base_uri": "https://localhost:8080/",
     "height": 204
    },
    "id": "1Hb5tXsbNtRj",
    "outputId": "d9393911-8abc-4649-8b3f-7f32c455cbda"
   },
   "outputs": [
    {
     "data": {
      "text/html": [
       "<div>\n",
       "<style scoped>\n",
       "    .dataframe tbody tr th:only-of-type {\n",
       "        vertical-align: middle;\n",
       "    }\n",
       "\n",
       "    .dataframe tbody tr th {\n",
       "        vertical-align: top;\n",
       "    }\n",
       "\n",
       "    .dataframe thead th {\n",
       "        text-align: right;\n",
       "    }\n",
       "</style>\n",
       "<table border=\"1\" class=\"dataframe\">\n",
       "  <thead>\n",
       "    <tr style=\"text-align: right;\">\n",
       "      <th></th>\n",
       "      <th>id</th>\n",
       "      <th>content</th>\n",
       "      <th>category</th>\n",
       "    </tr>\n",
       "  </thead>\n",
       "  <tbody>\n",
       "    <tr>\n",
       "      <th>0</th>\n",
       "      <td>SW4670</td>\n",
       "      <td>Bodi ya Utalii Tanzania (TTB) imesema, itafan...</td>\n",
       "      <td>uchumi</td>\n",
       "    </tr>\n",
       "    <tr>\n",
       "      <th>1</th>\n",
       "      <td>SW30826</td>\n",
       "      <td>PENDO FUNDISHA-MBEYA RAIS Dk. John Magufuri, ...</td>\n",
       "      <td>kitaifa</td>\n",
       "    </tr>\n",
       "    <tr>\n",
       "      <th>2</th>\n",
       "      <td>SW29725</td>\n",
       "      <td>Mwandishi Wetu -Singida BENKI ya NMB imetoa ms...</td>\n",
       "      <td>uchumi</td>\n",
       "    </tr>\n",
       "    <tr>\n",
       "      <th>3</th>\n",
       "      <td>SW20901</td>\n",
       "      <td>TIMU ya taifa ya Tanzania, Serengeti Boys jan...</td>\n",
       "      <td>michezo</td>\n",
       "    </tr>\n",
       "    <tr>\n",
       "      <th>4</th>\n",
       "      <td>SW12560</td>\n",
       "      <td>Na AGATHA CHARLES â€“Â DAR ES SALAAM ALIYEKUW...</td>\n",
       "      <td>kitaifa</td>\n",
       "    </tr>\n",
       "  </tbody>\n",
       "</table>\n",
       "</div>"
      ],
      "text/plain": [
       "        id                                            content category\n",
       "0   SW4670   Bodi ya Utalii Tanzania (TTB) imesema, itafan...   uchumi\n",
       "1  SW30826   PENDO FUNDISHA-MBEYA RAIS Dk. John Magufuri, ...  kitaifa\n",
       "2  SW29725  Mwandishi Wetu -Singida BENKI ya NMB imetoa ms...   uchumi\n",
       "3  SW20901   TIMU ya taifa ya Tanzania, Serengeti Boys jan...  michezo\n",
       "4  SW12560   Na AGATHA CHARLES â€“Â DAR ES SALAAM ALIYEKUW...  kitaifa"
      ]
     },
     "execution_count": 26,
     "metadata": {},
     "output_type": "execute_result"
    }
   ],
   "source": [
    "train.head()"
   ]
  },
  {
   "cell_type": "code",
   "execution_count": 27,
   "metadata": {
    "ExecuteTime": {
     "end_time": "2021-02-26T19:41:10.056470Z",
     "start_time": "2021-02-26T19:41:10.036405Z"
    },
    "colab": {
     "base_uri": "https://localhost:8080/",
     "height": 204
    },
    "id": "gS9_orVhT77j",
    "outputId": "8e694ca0-7d40-4954-ea38-f230e4286e5f"
   },
   "outputs": [
    {
     "data": {
      "text/html": [
       "<div>\n",
       "<style scoped>\n",
       "    .dataframe tbody tr th:only-of-type {\n",
       "        vertical-align: middle;\n",
       "    }\n",
       "\n",
       "    .dataframe tbody tr th {\n",
       "        vertical-align: top;\n",
       "    }\n",
       "\n",
       "    .dataframe thead th {\n",
       "        text-align: right;\n",
       "    }\n",
       "</style>\n",
       "<table border=\"1\" class=\"dataframe\">\n",
       "  <thead>\n",
       "    <tr style=\"text-align: right;\">\n",
       "      <th></th>\n",
       "      <th>id</th>\n",
       "      <th>content</th>\n",
       "    </tr>\n",
       "  </thead>\n",
       "  <tbody>\n",
       "    <tr>\n",
       "      <th>0</th>\n",
       "      <td>SW4255</td>\n",
       "      <td>WAZIRI MKUU Kassim Majaliwa amep okea leseni ...</td>\n",
       "    </tr>\n",
       "    <tr>\n",
       "      <th>1</th>\n",
       "      <td>SW15677</td>\n",
       "      <td>RAIS John Magufuli amewataka viongozi wa Halm...</td>\n",
       "    </tr>\n",
       "    <tr>\n",
       "      <th>2</th>\n",
       "      <td>SW15925</td>\n",
       "      <td>NEW YORK, MAREKANI MKALI wa hip hop nchini Mar...</td>\n",
       "    </tr>\n",
       "    <tr>\n",
       "      <th>3</th>\n",
       "      <td>SW7615</td>\n",
       "      <td>WAZIRI wa Kilimo, Dk Charles Tizeba amelitaka...</td>\n",
       "    </tr>\n",
       "    <tr>\n",
       "      <th>4</th>\n",
       "      <td>SW28011</td>\n",
       "      <td>Mwandishi wetu, Tanga WAFANYABIASHARA wa Mkoa ...</td>\n",
       "    </tr>\n",
       "  </tbody>\n",
       "</table>\n",
       "</div>"
      ],
      "text/plain": [
       "        id                                            content\n",
       "0   SW4255   WAZIRI MKUU Kassim Majaliwa amep okea leseni ...\n",
       "1  SW15677   RAIS John Magufuli amewataka viongozi wa Halm...\n",
       "2  SW15925  NEW YORK, MAREKANI MKALI wa hip hop nchini Mar...\n",
       "3   SW7615   WAZIRI wa Kilimo, Dk Charles Tizeba amelitaka...\n",
       "4  SW28011  Mwandishi wetu, Tanga WAFANYABIASHARA wa Mkoa ..."
      ]
     },
     "execution_count": 27,
     "metadata": {},
     "output_type": "execute_result"
    }
   ],
   "source": [
    "test.head()"
   ]
  },
  {
   "cell_type": "code",
   "execution_count": 28,
   "metadata": {
    "ExecuteTime": {
     "end_time": "2021-02-26T19:41:10.095461Z",
     "start_time": "2021-02-26T19:41:10.060470Z"
    },
    "colab": {
     "base_uri": "https://localhost:8080/"
    },
    "id": "4Jd2k6okV2yP",
    "outputId": "1eb7a197-3e47-4484-917e-a39130b5a04b"
   },
   "outputs": [
    {
     "name": "stdout",
     "output_type": "stream",
     "text": [
      "id          0\n",
      "content     0\n",
      "category    0\n",
      "dtype: int64\n",
      "id         0\n",
      "content    0\n",
      "dtype: int64\n"
     ]
    }
   ],
   "source": [
    "#check mssing values in train and test\n",
    "print( train.isnull().sum())\n",
    "print(test.isnull().sum())"
   ]
  },
  {
   "cell_type": "code",
   "execution_count": 29,
   "metadata": {
    "ExecuteTime": {
     "end_time": "2021-02-26T19:41:10.116460Z",
     "start_time": "2021-02-26T19:41:10.099461Z"
    },
    "colab": {
     "base_uri": "https://localhost:8080/"
    },
    "id": "h3_wwa0vLx_l",
    "outputId": "dba4c757-2b18-4bd5-a2dc-da95f6f82d89"
   },
   "outputs": [
    {
     "data": {
      "text/plain": [
       "kitaifa      10242\n",
       "michezo       6004\n",
       "burudani      2229\n",
       "uchumi        2028\n",
       "kimataifa     1906\n",
       "afya           859\n",
       "Name: category, dtype: int64"
      ]
     },
     "execution_count": 29,
     "metadata": {},
     "output_type": "execute_result"
    }
   ],
   "source": [
    "#check news category distribution\n",
    "train.category.value_counts()"
   ]
  },
  {
   "cell_type": "markdown",
   "metadata": {
    "id": "WfYLlF6zYh6y"
   },
   "source": [
    "Data prep"
   ]
  },
  {
   "cell_type": "code",
   "execution_count": 30,
   "metadata": {
    "ExecuteTime": {
     "end_time": "2021-02-26T19:41:10.134457Z",
     "start_time": "2021-02-26T19:41:10.119459Z"
    },
    "id": "LSThD1QNY27x"
   },
   "outputs": [],
   "source": [
    "# mapping categorical values\n",
    "categorical_mapping = {\"kitaifa\":0,\"michezo\":1, \"burudani\":2 , \"kimataifa\":3, \"uchumi\":4, \"afya\":5}"
   ]
  },
  {
   "cell_type": "code",
   "execution_count": 31,
   "metadata": {
    "ExecuteTime": {
     "end_time": "2021-02-26T19:41:10.158456Z",
     "start_time": "2021-02-26T19:41:10.137460Z"
    },
    "colab": {
     "base_uri": "https://localhost:8080/",
     "height": 204
    },
    "id": "K2bd9fq3ZUX-",
    "outputId": "7a7013a1-534f-42bb-e168-65146226eb2e"
   },
   "outputs": [
    {
     "data": {
      "text/html": [
       "<div>\n",
       "<style scoped>\n",
       "    .dataframe tbody tr th:only-of-type {\n",
       "        vertical-align: middle;\n",
       "    }\n",
       "\n",
       "    .dataframe tbody tr th {\n",
       "        vertical-align: top;\n",
       "    }\n",
       "\n",
       "    .dataframe thead th {\n",
       "        text-align: right;\n",
       "    }\n",
       "</style>\n",
       "<table border=\"1\" class=\"dataframe\">\n",
       "  <thead>\n",
       "    <tr style=\"text-align: right;\">\n",
       "      <th></th>\n",
       "      <th>id</th>\n",
       "      <th>content</th>\n",
       "      <th>category</th>\n",
       "    </tr>\n",
       "  </thead>\n",
       "  <tbody>\n",
       "    <tr>\n",
       "      <th>0</th>\n",
       "      <td>SW4670</td>\n",
       "      <td>Bodi ya Utalii Tanzania (TTB) imesema, itafan...</td>\n",
       "      <td>4</td>\n",
       "    </tr>\n",
       "    <tr>\n",
       "      <th>1</th>\n",
       "      <td>SW30826</td>\n",
       "      <td>PENDO FUNDISHA-MBEYA RAIS Dk. John Magufuri, ...</td>\n",
       "      <td>0</td>\n",
       "    </tr>\n",
       "    <tr>\n",
       "      <th>2</th>\n",
       "      <td>SW29725</td>\n",
       "      <td>Mwandishi Wetu -Singida BENKI ya NMB imetoa ms...</td>\n",
       "      <td>4</td>\n",
       "    </tr>\n",
       "    <tr>\n",
       "      <th>3</th>\n",
       "      <td>SW20901</td>\n",
       "      <td>TIMU ya taifa ya Tanzania, Serengeti Boys jan...</td>\n",
       "      <td>1</td>\n",
       "    </tr>\n",
       "    <tr>\n",
       "      <th>4</th>\n",
       "      <td>SW12560</td>\n",
       "      <td>Na AGATHA CHARLES â€“Â DAR ES SALAAM ALIYEKUW...</td>\n",
       "      <td>0</td>\n",
       "    </tr>\n",
       "  </tbody>\n",
       "</table>\n",
       "</div>"
      ],
      "text/plain": [
       "        id                                            content  category\n",
       "0   SW4670   Bodi ya Utalii Tanzania (TTB) imesema, itafan...         4\n",
       "1  SW30826   PENDO FUNDISHA-MBEYA RAIS Dk. John Magufuri, ...         0\n",
       "2  SW29725  Mwandishi Wetu -Singida BENKI ya NMB imetoa ms...         4\n",
       "3  SW20901   TIMU ya taifa ya Tanzania, Serengeti Boys jan...         1\n",
       "4  SW12560   Na AGATHA CHARLES â€“Â DAR ES SALAAM ALIYEKUW...         0"
      ]
     },
     "execution_count": 31,
     "metadata": {},
     "output_type": "execute_result"
    }
   ],
   "source": [
    "train['category'] = train.category.map(categorical_mapping)\n",
    "train.head()"
   ]
  },
  {
   "cell_type": "code",
   "execution_count": 32,
   "metadata": {
    "ExecuteTime": {
     "end_time": "2021-02-26T19:41:10.168457Z",
     "start_time": "2021-02-26T19:41:10.162459Z"
    },
    "id": "wyPpSqzpZ0pa"
   },
   "outputs": [],
   "source": [
    "#function to clean data\n",
    "def text_cleaning(text):\n",
    "  text = re.sub(r\"[^A-Za-z0-9]\",\" \", text)\n",
    "  text = re.sub(r'\\b\\d+(?:\\.\\d+)\\s+','',text)#remove numbers\n",
    "  text = text.lower()\n",
    "  text = ''.join([c for c in text if c not in punctuation ])\n",
    "  return (text)"
   ]
  },
  {
   "cell_type": "code",
   "execution_count": 33,
   "metadata": {
    "ExecuteTime": {
     "end_time": "2021-02-26T19:41:20.581213Z",
     "start_time": "2021-02-26T19:41:10.172490Z"
    },
    "id": "O7VzJZTlYeza"
   },
   "outputs": [],
   "source": [
    "# clean train and test data\n",
    "train[\"content\"] = train[\"content\"].apply(text_cleaning)\n",
    "test[\"content\"] = test[\"content\"].apply(text_cleaning)"
   ]
  },
  {
   "cell_type": "markdown",
   "metadata": {
    "id": "9SLAgDY7icVp"
   },
   "source": [
    "train.head()"
   ]
  },
  {
   "cell_type": "code",
   "execution_count": 34,
   "metadata": {
    "ExecuteTime": {
     "end_time": "2021-02-26T19:41:20.596130Z",
     "start_time": "2021-02-26T19:41:20.583190Z"
    },
    "colab": {
     "base_uri": "https://localhost:8080/"
    },
    "id": "1G2dDH_Ff6B5",
    "outputId": "253207d1-312d-4aef-e149-3af106b331a7"
   },
   "outputs": [
    {
     "data": {
      "text/html": [
       "<div>\n",
       "<style scoped>\n",
       "    .dataframe tbody tr th:only-of-type {\n",
       "        vertical-align: middle;\n",
       "    }\n",
       "\n",
       "    .dataframe tbody tr th {\n",
       "        vertical-align: top;\n",
       "    }\n",
       "\n",
       "    .dataframe thead th {\n",
       "        text-align: right;\n",
       "    }\n",
       "</style>\n",
       "<table border=\"1\" class=\"dataframe\">\n",
       "  <thead>\n",
       "    <tr style=\"text-align: right;\">\n",
       "      <th></th>\n",
       "      <th>id</th>\n",
       "      <th>content</th>\n",
       "      <th>category</th>\n",
       "    </tr>\n",
       "  </thead>\n",
       "  <tbody>\n",
       "    <tr>\n",
       "      <th>0</th>\n",
       "      <td>SW4670</td>\n",
       "      <td>bodi ya utalii tanzania  ttb  imesema  itafan...</td>\n",
       "      <td>4</td>\n",
       "    </tr>\n",
       "    <tr>\n",
       "      <th>1</th>\n",
       "      <td>SW30826</td>\n",
       "      <td>pendo fundisha mbeya rais dk  john magufuri  ...</td>\n",
       "      <td>0</td>\n",
       "    </tr>\n",
       "    <tr>\n",
       "      <th>2</th>\n",
       "      <td>SW29725</td>\n",
       "      <td>mwandishi wetu  singida benki ya nmb imetoa ms...</td>\n",
       "      <td>4</td>\n",
       "    </tr>\n",
       "    <tr>\n",
       "      <th>3</th>\n",
       "      <td>SW20901</td>\n",
       "      <td>timu ya taifa ya tanzania  serengeti boys jan...</td>\n",
       "      <td>1</td>\n",
       "    </tr>\n",
       "    <tr>\n",
       "      <th>4</th>\n",
       "      <td>SW12560</td>\n",
       "      <td>na agatha charles      dar es salaam aliyekuw...</td>\n",
       "      <td>0</td>\n",
       "    </tr>\n",
       "    <tr>\n",
       "      <th>5</th>\n",
       "      <td>SW30734</td>\n",
       "      <td>majadiliano kati ya aliyekuwa mkurugenzi wa z...</td>\n",
       "      <td>0</td>\n",
       "    </tr>\n",
       "    <tr>\n",
       "      <th>6</th>\n",
       "      <td>SW28096</td>\n",
       "      <td>mwandishi wetu     butiama mkuu wa majeshi mst...</td>\n",
       "      <td>0</td>\n",
       "    </tr>\n",
       "    <tr>\n",
       "      <th>7</th>\n",
       "      <td>SW1223</td>\n",
       "      <td>huenda manchester united ikasubiri ukaguzi w...</td>\n",
       "      <td>1</td>\n",
       "    </tr>\n",
       "    <tr>\n",
       "      <th>8</th>\n",
       "      <td>SW20534</td>\n",
       "      <td>shirika la bima la taifa  nic  linakuja na bi...</td>\n",
       "      <td>4</td>\n",
       "    </tr>\n",
       "    <tr>\n",
       "      <th>9</th>\n",
       "      <td>SW9193</td>\n",
       "      <td>rais wa zanzibar  dk ali mohamed shein amewat...</td>\n",
       "      <td>0</td>\n",
       "    </tr>\n",
       "    <tr>\n",
       "      <th>10</th>\n",
       "      <td>SW9898</td>\n",
       "      <td>stockholm  sweden serikali ya sweden imemrudis...</td>\n",
       "      <td>3</td>\n",
       "    </tr>\n",
       "    <tr>\n",
       "      <th>11</th>\n",
       "      <td>SW17477</td>\n",
       "      <td>kampuni ya kuhifadhi mafuta ya tanzania  tipe...</td>\n",
       "      <td>4</td>\n",
       "    </tr>\n",
       "    <tr>\n",
       "      <th>12</th>\n",
       "      <td>SW8129</td>\n",
       "      <td>na samwel mwanga       serikali wilaya ya ma...</td>\n",
       "      <td>0</td>\n",
       "    </tr>\n",
       "    <tr>\n",
       "      <th>13</th>\n",
       "      <td>SW25767</td>\n",
       "      <td>na christopher msekena mwimbaji wa nyimbo za ...</td>\n",
       "      <td>2</td>\n",
       "    </tr>\n",
       "    <tr>\n",
       "      <th>14</th>\n",
       "      <td>SW21618</td>\n",
       "      <td>mbunge wa makambako  deo sanga maarufu jah pe...</td>\n",
       "      <td>0</td>\n",
       "    </tr>\n",
       "    <tr>\n",
       "      <th>15</th>\n",
       "      <td>SW25666</td>\n",
       "      <td>mchezo huo utapigwa kwenye uwanja wa jamhuri ...</td>\n",
       "      <td>1</td>\n",
       "    </tr>\n",
       "    <tr>\n",
       "      <th>16</th>\n",
       "      <td>SW23240</td>\n",
       "      <td>brussels  ubelgiji  viongozi wa ulaya wametang...</td>\n",
       "      <td>3</td>\n",
       "    </tr>\n",
       "    <tr>\n",
       "      <th>17</th>\n",
       "      <td>SW16386</td>\n",
       "      <td>na festo polea dar es salaam kati ya redio za...</td>\n",
       "      <td>2</td>\n",
       "    </tr>\n",
       "    <tr>\n",
       "      <th>18</th>\n",
       "      <td>SW22592</td>\n",
       "      <td>na abducado emmanuel  dar es salaam waamuzi ku...</td>\n",
       "      <td>1</td>\n",
       "    </tr>\n",
       "    <tr>\n",
       "      <th>19</th>\n",
       "      <td>SW28923</td>\n",
       "      <td>uunganishaji maji ya mamlaka ya majisafi na m...</td>\n",
       "      <td>0</td>\n",
       "    </tr>\n",
       "  </tbody>\n",
       "</table>\n",
       "</div>"
      ],
      "text/plain": [
       "         id                                            content  category\n",
       "0    SW4670   bodi ya utalii tanzania  ttb  imesema  itafan...         4\n",
       "1   SW30826   pendo fundisha mbeya rais dk  john magufuri  ...         0\n",
       "2   SW29725  mwandishi wetu  singida benki ya nmb imetoa ms...         4\n",
       "3   SW20901   timu ya taifa ya tanzania  serengeti boys jan...         1\n",
       "4   SW12560   na agatha charles      dar es salaam aliyekuw...         0\n",
       "5   SW30734   majadiliano kati ya aliyekuwa mkurugenzi wa z...         0\n",
       "6   SW28096  mwandishi wetu     butiama mkuu wa majeshi mst...         0\n",
       "7    SW1223    huenda manchester united ikasubiri ukaguzi w...         1\n",
       "8   SW20534   shirika la bima la taifa  nic  linakuja na bi...         4\n",
       "9    SW9193   rais wa zanzibar  dk ali mohamed shein amewat...         0\n",
       "10   SW9898  stockholm  sweden serikali ya sweden imemrudis...         3\n",
       "11  SW17477   kampuni ya kuhifadhi mafuta ya tanzania  tipe...         4\n",
       "12   SW8129    na samwel mwanga       serikali wilaya ya ma...         0\n",
       "13  SW25767   na christopher msekena mwimbaji wa nyimbo za ...         2\n",
       "14  SW21618   mbunge wa makambako  deo sanga maarufu jah pe...         0\n",
       "15  SW25666   mchezo huo utapigwa kwenye uwanja wa jamhuri ...         1\n",
       "16  SW23240  brussels  ubelgiji  viongozi wa ulaya wametang...         3\n",
       "17  SW16386   na festo polea dar es salaam kati ya redio za...         2\n",
       "18  SW22592  na abducado emmanuel  dar es salaam waamuzi ku...         1\n",
       "19  SW28923   uunganishaji maji ya mamlaka ya majisafi na m...         0"
      ]
     },
     "execution_count": 34,
     "metadata": {},
     "output_type": "execute_result"
    }
   ],
   "source": [
    "train.head(20)"
   ]
  },
  {
   "cell_type": "code",
   "execution_count": 35,
   "metadata": {
    "ExecuteTime": {
     "end_time": "2021-02-26T19:41:20.613140Z",
     "start_time": "2021-02-26T19:41:20.602136Z"
    },
    "id": "DlP2RYqKiEro"
   },
   "outputs": [],
   "source": [
    "X = train[\"content\"]\n",
    "y = train.category.values"
   ]
  },
  {
   "cell_type": "code",
   "execution_count": 36,
   "metadata": {
    "ExecuteTime": {
     "end_time": "2021-02-26T19:41:37.356898Z",
     "start_time": "2021-02-26T19:41:20.617068Z"
    },
    "id": "EnjpW2xYiSui"
   },
   "outputs": [],
   "source": [
    "#transform text data\n",
    "vectorizer = CountVectorizer(lowercase=False)\n",
    "vectorizer.fit(X)\n",
    "\n",
    "X_transformed = vectorizer.transform(X)\n",
    "\n",
    "test_transformed = vectorizer.transform(test[\"content\"])"
   ]
  },
  {
   "cell_type": "code",
   "execution_count": 37,
   "metadata": {
    "ExecuteTime": {
     "end_time": "2021-02-26T19:41:37.443640Z",
     "start_time": "2021-02-26T19:41:37.358870Z"
    },
    "id": "Q9WXC8serUwh"
   },
   "outputs": [],
   "source": [
    "#split data into train and validate\n",
    "X_train, X_valid,y_train, y_valid = train_test_split(X_transformed,y,test_size = 0.20, random_state=42,shuffle=True,stratify=y)"
   ]
  },
  {
   "cell_type": "markdown",
   "metadata": {},
   "source": [
    "Create classifier"
   ]
  },
  {
   "cell_type": "code",
   "execution_count": 38,
   "metadata": {
    "ExecuteTime": {
     "end_time": "2021-02-26T19:41:37.589685Z",
     "start_time": "2021-02-26T19:41:37.445756Z"
    }
   },
   "outputs": [
    {
     "data": {
      "text/plain": [
       "MultinomialNB()"
      ]
     },
     "execution_count": 38,
     "metadata": {},
     "output_type": "execute_result"
    }
   ],
   "source": [
    "news_classifier = MultinomialNB()\n",
    "news_classifier.fit(X_train,y_train)"
   ]
  },
  {
   "cell_type": "code",
   "execution_count": 39,
   "metadata": {
    "ExecuteTime": {
     "end_time": "2021-02-26T19:41:37.640703Z",
     "start_time": "2021-02-26T19:41:37.592686Z"
    }
   },
   "outputs": [],
   "source": [
    "y_probas = news_classifier.predict_proba(X_valid)"
   ]
  },
  {
   "cell_type": "code",
   "execution_count": 40,
   "metadata": {
    "ExecuteTime": {
     "end_time": "2021-02-26T19:41:43.905992Z",
     "start_time": "2021-02-26T19:41:43.894979Z"
    }
   },
   "outputs": [
    {
     "data": {
      "text/plain": [
       "4.24181756366122"
      ]
     },
     "execution_count": 40,
     "metadata": {},
     "output_type": "execute_result"
    }
   ],
   "source": [
    "log_loss(y_valid, y_probas)"
   ]
  },
  {
   "cell_type": "code",
   "execution_count": 41,
   "metadata": {
    "ExecuteTime": {
     "end_time": "2021-02-26T19:42:56.342036Z",
     "start_time": "2021-02-26T19:42:56.284095Z"
    }
   },
   "outputs": [],
   "source": [
    "#create preds from test data\n",
    "test_probas = news_classifier.predict_proba(test_transformed)"
   ]
  },
  {
   "cell_type": "markdown",
   "metadata": {},
   "source": [
    "Create Submission file"
   ]
  },
  {
   "cell_type": "code",
   "execution_count": null,
   "metadata": {},
   "outputs": [],
   "source": []
  },
  {
   "cell_type": "markdown",
   "metadata": {},
   "source": []
  }
 ],
 "metadata": {
  "colab": {
   "collapsed_sections": [],
   "name": "zindi swahilli classification challenge.ipynb",
   "provenance": []
  },
  "kernelspec": {
   "display_name": "Python 3",
   "language": "python",
   "name": "python3"
  },
  "language_info": {
   "codemirror_mode": {
    "name": "ipython",
    "version": 3
   },
   "file_extension": ".py",
   "mimetype": "text/x-python",
   "name": "python",
   "nbconvert_exporter": "python",
   "pygments_lexer": "ipython3",
   "version": "3.6.10"
  },
  "toc": {
   "base_numbering": 1,
   "nav_menu": {},
   "number_sections": true,
   "sideBar": true,
   "skip_h1_title": false,
   "title_cell": "Table of Contents",
   "title_sidebar": "Contents",
   "toc_cell": false,
   "toc_position": {},
   "toc_section_display": true,
   "toc_window_display": false
  }
 },
 "nbformat": 4,
 "nbformat_minor": 1
}
